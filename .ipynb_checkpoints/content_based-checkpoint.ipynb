{
 "cells": [
  {
   "cell_type": "code",
   "execution_count": 1,
   "id": "a0091d3e-abab-42e3-9f64-184549c5bff8",
   "metadata": {},
   "outputs": [],
   "source": [
    "import csv\n",
    "import numpy as np\n",
    "import pandas as pd"
   ]
  },
  {
   "cell_type": "code",
   "execution_count": 84,
   "id": "811601ab-af39-453e-a560-560cbd8e3aab",
   "metadata": {},
   "outputs": [],
   "source": [
    "ratings = np.genfromtxt('ratings.csv', delimiter=',')[1:]\n",
    "ratings[:,2] = ratings[:,2]*2 #met le rating sur 10\n",
    "ratings = ratings.astype(int)\n",
    "\n",
    "movies = pd.read_csv('movies.csv', header=None).values[1:]\n",
    "movies[:,0] = movies[:,0].astype(int)\n",
    "for idx, genres in enumerate(movies[:,2]):\n",
    "    movies[idx][2] = genres.split('|')\n",
    "    \n",
    "#creates dictionnary that links idx to movies ids\n",
    "movie_idx_from_id = {}\n",
    "for i in range(movies.shape[0]):\n",
    "    movie_idx_from_id[movies[i,0]] = i\n",
    "    \n",
    "#retrieves all existing genres    \n",
    "genres = set() \n",
    "for gs in movies[:,2]:\n",
    "    for g in gs:\n",
    "        genres.add(g)\n",
    "\n",
    "#creates dictionnary that links ids with genres string\n",
    "id_from_genre = {}\n",
    "for idx, genre in enumerate(genres):\n",
    "    id_from_genre[genre] = idx\n",
    "    \n",
    "links = np.genfromtxt('links.csv', delimiter=',')[1:].astype(int)\n",
    "\n",
    "tags = pd.read_csv('tags.csv', header=None).values[1:]\n",
    "tags[:,0:2] = tags[:,0:2].astype(int)\n",
    "tags[:,3] = tags[:,3].astype(int)"
   ]
  },
  {
   "cell_type": "code",
   "execution_count": 3,
   "id": "7fe143e0-c51b-4288-893f-4c46e22bcf07",
   "metadata": {},
   "outputs": [],
   "source": [
    "TF = np.zeros((len(genres), movies.shape[0]))\n",
    "for idx, gs in enumerate(movies[:,2]):\n",
    "    for g in gs:\n",
    "        TF[id_from_genre[g],idx] = 1"
   ]
  },
  {
   "cell_type": "code",
   "execution_count": 8,
   "id": "48740396-4559-45d4-bae9-a79adbe10a22",
   "metadata": {},
   "outputs": [],
   "source": [
    "#computing the inverse frequency\n",
    "\n",
    "occurences = np.zeros(TF.shape[0])\n",
    "\n",
    "for g in genres:\n",
    "    occurences[id_from_genre[g]] = int(np.sum(TF[:][id_from_genre[g]]))\n",
    "    \n",
    "IDF = np.log(TF.shape[1]/occurences)"
   ]
  },
  {
   "cell_type": "code",
   "execution_count": 25,
   "id": "accc2c09-f104-4331-b1b6-5b43fba4b11c",
   "metadata": {},
   "outputs": [],
   "source": [
    "#computing the TD-IDF score for every pair of feature-item\n",
    "\n",
    "TF_IDF = IDF*TF.T"
   ]
  },
  {
   "cell_type": "code",
   "execution_count": 31,
   "id": "45b53927-7f6a-456a-ba01-364a2ac2c1cc",
   "metadata": {},
   "outputs": [
    {
     "data": {
      "text/plain": [
       "(array([[1., 0., 0., ..., 0., 1., 0.],\n",
       "        [0., 0., 0., ..., 1., 0., 0.],\n",
       "        [0., 0., 0., ..., 0., 0., 0.],\n",
       "        ...,\n",
       "        [0., 0., 0., ..., 0., 0., 0.],\n",
       "        [1., 1., 0., ..., 0., 0., 0.],\n",
       "        [0., 0., 0., ..., 0., 0., 0.]]),\n",
       " array([2.76910476, 0.80374505, 3.37306072, 2.833316  , 1.63775544,\n",
       "        3.23878111, 2.04295659, 1.67322396, 2.68591956, 4.12160668,\n",
       "        2.29664914, 4.7182936 , 0.95309187, 3.09742699, 2.09495856,\n",
       "        5.65784119, 1.80894594, 4.0662079 , 2.52619067, 2.29869204]),\n",
       " array([[2.76910476, 0.        , 0.        , ..., 0.        , 2.52619067,\n",
       "         0.        ],\n",
       "        [0.        , 0.        , 0.        , ..., 0.        , 2.52619067,\n",
       "         0.        ],\n",
       "        [0.        , 0.        , 0.        , ..., 0.        , 0.        ,\n",
       "         0.        ],\n",
       "        ...,\n",
       "        [0.        , 0.80374505, 0.        , ..., 0.        , 0.        ,\n",
       "         0.        ],\n",
       "        [2.76910476, 0.        , 0.        , ..., 0.        , 0.        ,\n",
       "         0.        ],\n",
       "        [0.        , 0.        , 0.        , ..., 0.        , 0.        ,\n",
       "         0.        ]]))"
      ]
     },
     "execution_count": 31,
     "metadata": {},
     "output_type": "execute_result"
    }
   ],
   "source": [
    "TF, IDF, TF_IDF"
   ]
  },
  {
   "cell_type": "code",
   "execution_count": 396,
   "id": "b5977916-c19f-46a7-8828-93beb134786f",
   "metadata": {},
   "outputs": [],
   "source": [
    "nb_ids = len(set(ratings[:,0])) #610 ids with at least 1 rating from each\n",
    "\n",
    "like_threshold = 8\n",
    "\n",
    "liked_films = [[] for _ in range(nb_ids)] #real id is +1 because array starts with 0\n",
    "given_scores = [[] for _ in range(nb_ids)] \n",
    "\n",
    "for rating in ratings:\n",
    "    if(rating[2] >= like_threshold):\n",
    "        liked_films[rating[0]-1].append(movie_idx_from_id[rating[1]])\n",
    "        given_scores[rating[0]-1].append(rating[2])"
   ]
  },
  {
   "cell_type": "code",
   "execution_count": 401,
   "id": "a80b6266-7f59-47e7-9914-8917c33ea530",
   "metadata": {},
   "outputs": [],
   "source": [
    "user_profils = np.zeros((nb_ids,len(genres)))\n",
    "\n",
    "for i in range(nb_ids):\n",
    "    profil = np.zeros(len(genres))\n",
    "    for j in range(len(liked_films[i])): #using the weighted average aggregation method\n",
    "        profil += given_scores[i][j]*TF_IDF[liked_films[i][j]] #sum the profils of liked movies with the weight given by the user rating score\n",
    "    profil /= max(np.sum(given_scores[i]),1) #avoid division by 0 when user has no liked movie\n",
    "    user_profils[i] =profil"
   ]
  },
  {
   "cell_type": "code",
   "execution_count": 410,
   "id": "760856c9-244f-44d2-b22a-fb8f4fd28ce2",
   "metadata": {},
   "outputs": [
    {
     "data": {
      "text/plain": [
       "array([0.38959266, 0.25921648, 0.35409837, 0.19318064, 0.34917513,\n",
       "       0.32598122, 0.75394827, 0.63017526, 0.51160373, 0.        ,\n",
       "       0.3604049 , 0.02553189, 0.32801214, 0.        , 0.40810881,\n",
       "       0.        , 0.20751977, 0.11881776, 0.5085189 , 0.09702272])"
      ]
     },
     "execution_count": 410,
     "metadata": {},
     "output_type": "execute_result"
    }
   ],
   "source": [
    "user_profils[0]"
   ]
  },
  {
   "cell_type": "code",
   "execution_count": 403,
   "id": "b4887f4a-9763-4cf8-81d4-94e76a8bfaf6",
   "metadata": {},
   "outputs": [],
   "source": [
    "#cosine similarity avoiding usage of for loop\n",
    "\n",
    "top = user_profils@TF_IDF.T #scalar products\n",
    "bottom = (np.linalg.norm(user_profils, axis = 1).reshape((user_profils.shape[0],1))@np.linalg.norm(TF_IDF, axis = 1).reshape((1,TF_IDF.shape[0]))) #mul of norms\n",
    "bottom[bottom == 0] = 1 #avoids div by 0\n",
    "scores = top/bottom"
   ]
  },
  {
   "cell_type": "code",
   "execution_count": 412,
   "id": "c81c1049-328f-406a-a333-415026969019",
   "metadata": {},
   "outputs": [
    {
     "name": "stdout",
     "output_type": "stream",
     "text": [
      "10 predicted movies for user_120:\n",
      "\n",
      "id:8785  movieId:129354  Title:Focus (2015)\n",
      "id:5928  movieId:33903   Title:Edukators, The (Die Fetten Jahre sind vorbei) (2004)\n",
      "id:5682  movieId:27716   Title:Green Butchers, The (Grønne slagtere, De) (2003)\n",
      "id:7209  movieId:72919   Title:Did You Hear About the Morgans? (2009)\n",
      "id:4180  movieId:6023    Title:Band of Outsiders (Bande à part) (1964)\n",
      "id:5774  movieId:31367   Title:Chase, The (1994)\n",
      "id:400   movieId:459     Title:Getaway, The (1994)\n",
      "id:2903  movieId:3893    Title:Nurse Betty (2000)\n",
      "id:1394  movieId:1912    Title:Out of Sight (1998)\n",
      "id:9106  movieId:144606  Title:Confessions of a Dangerous Mind (2002)\n"
     ]
    }
   ],
   "source": [
    "user = 120\n",
    "k = 10\n",
    "\n",
    "def recommended(user,k): \n",
    "    scores_not_watched = scores[user].copy()\n",
    "    scores_not_watched[liked_films[user]] = 0 #removes already noted movies\n",
    "    return np.argpartition(scores_not_watched, k*-1)[k*-1:] #gets the k unwatched movies with the highest predicted score\n",
    "\n",
    "answer = recommended(user,k)\n",
    "print(f\"{k} predicted movies for user_{user}:\\n\")\n",
    "for l in answer:\n",
    "    print(f\"id:{l}{(4-int(np.log10(l)))*' '} movieId:{movies[l,0]}{(6-int(np.log10(movies[l,0])))*' '} Title:{movies[l,1]}\")"
   ]
  },
  {
   "cell_type": "markdown",
   "id": "44ae0ead-4708-47bd-8b5d-2f9be9c3a1a8",
   "metadata": {},
   "source": [
    "### Verification des résultats"
   ]
  },
  {
   "cell_type": "code",
   "execution_count": 405,
   "id": "7ae7fd55-a4d1-4870-8ec9-2e3acd2945e7",
   "metadata": {},
   "outputs": [
    {
     "data": {
      "text/plain": [
       "array([ 53, 244, 310, 292, 213, 507, 441, 193, 162, 477], dtype=int64)"
      ]
     },
     "execution_count": 405,
     "metadata": {},
     "output_type": "execute_result"
    }
   ],
   "source": [
    "np.argpartition([len(liked_films[i]) for i in range(nb_ids)],10)[:10]  #on prend les id des users ayant le moins de films aimé pour avoir des profils niches"
   ]
  },
  {
   "cell_type": "code",
   "execution_count": 406,
   "id": "03fed01f-035c-41f1-8508-f7ac37808f40",
   "metadata": {},
   "outputs": [
    {
     "data": {
      "text/plain": [
       "3"
      ]
     },
     "execution_count": 406,
     "metadata": {},
     "output_type": "execute_result"
    }
   ],
   "source": [
    "len(liked_films[53])"
   ]
  },
  {
   "cell_type": "code",
   "execution_count": 407,
   "id": "84cde2fc-e521-4fff-accf-9ef38a6db66f",
   "metadata": {},
   "outputs": [
    {
     "name": "stdout",
     "output_type": "stream",
     "text": [
      "10 predicted movies for user_53:\n",
      "\n",
      "id:9106  movieId:144606  Title:Confessions of a Dangerous Mind (2002)\n",
      "id:6003  movieId:37720   Title:Exorcism of Emily Rose, The (2005)\n",
      "id:6753  movieId:59604   Title:Girl Next Door, The (2007)\n",
      "id:7046  movieId:69140   Title:Sweeney Todd (2006)\n",
      "id:5985  movieId:36529   Title:Lord of War (2005)\n",
      "id:6698  movieId:58303   Title:Counterfeiters, The (Die Fälscher) (2007)\n",
      "id:966   movieId:1267    Title:Manchurian Candidate, The (1962)\n",
      "id:4448  movieId:6567    Title:Buffalo Soldiers (2001)\n",
      "id:6074  movieId:41527   Title:Paradise Now (2005)\n",
      "id:1369  movieId:1873    Title:Misérables, Les (1998)\n"
     ]
    }
   ],
   "source": [
    "user = 53\n",
    "\n",
    "answer = recommended(user,k)\n",
    "print(f\"{k} predicted movies for user_{user}:\\n\")\n",
    "for l in answer:\n",
    "    print(f\"id:{l}{(4-int(np.log10(l)))*' '} movieId:{movies[l,0]}{(6-int(np.log10(movies[l,0])))*' '} Title:{movies[l,1]}\")"
   ]
  },
  {
   "cell_type": "code",
   "execution_count": 409,
   "id": "c1af4d40-f86d-44de-b9d6-a761f4cd7bbe",
   "metadata": {},
   "outputs": [
    {
     "data": {
      "text/plain": [
       "(array([0.        , 0.53583003, 0.        , 0.        , 0.54591848,\n",
       "        1.0795937 , 0.        , 0.        , 0.        , 0.        ,\n",
       "        0.        , 0.        , 0.31769729, 0.        , 1.39663904,\n",
       "        0.        , 0.60298198, 0.        , 0.        , 0.76623068]),\n",
       " array([0.        , 0.80374505, 0.        , 0.        , 0.        ,\n",
       "        3.23878111, 0.        , 0.        , 0.        , 0.        ,\n",
       "        0.        , 0.        , 0.        , 0.        , 2.09495856,\n",
       "        0.        , 1.80894594, 0.        , 0.        , 0.        ]))"
      ]
     },
     "execution_count": 409,
     "metadata": {},
     "output_type": "execute_result"
    }
   ],
   "source": [
    "user_profils[user], TF_IDF[1369] #on compare son profil avec un film proposé"
   ]
  },
  {
   "cell_type": "markdown",
   "id": "459682e1-5c1d-4157-b82b-ecba3b829407",
   "metadata": {},
   "source": [
    "Les profils matchent."
   ]
  }
 ],
 "metadata": {
  "kernelspec": {
   "display_name": "Python 3 (ipykernel)",
   "language": "python",
   "name": "python3"
  },
  "language_info": {
   "codemirror_mode": {
    "name": "ipython",
    "version": 3
   },
   "file_extension": ".py",
   "mimetype": "text/x-python",
   "name": "python",
   "nbconvert_exporter": "python",
   "pygments_lexer": "ipython3",
   "version": "3.8.5"
  }
 },
 "nbformat": 4,
 "nbformat_minor": 5
}
